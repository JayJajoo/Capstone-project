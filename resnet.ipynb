{
  "cells": [
    {
      "cell_type": "code",
      "execution_count": 1,
      "metadata": {
        "id": "GbM99Tn_BwMN"
      },
      "outputs": [],
      "source": [
        "import warnings\n",
        "warnings.filterwarnings(\"ignore\")"
      ]
    },
    {
      "cell_type": "code",
      "execution_count": 2,
      "metadata": {
        "id": "ct91gqMXB0cA"
      },
      "outputs": [],
      "source": [
        "import pandas as pd\n",
        "import os\n",
        "import tensorflow as tf\n",
        "import numpy as np\n",
        "from tensorflow.keras.applications.resnet50 import ResNet50, preprocess_input\n",
        "from tensorflow.keras.models import Model\n",
        "from keras.preprocessing.image import ImageDataGenerator\n",
        "from tensorflow.keras.layers import GlobalAveragePooling2D\n",
        "import matplotlib.pyplot as plt"
      ]
    },
    {
      "cell_type": "code",
      "execution_count": 3,
      "metadata": {},
      "outputs": [],
      "source": [
        "import os\n",
        "os.environ[\"CUDA_VISIBLE_DEVICES\"] = \"-1\""
      ]
    },
    {
      "cell_type": "code",
      "execution_count": 4,
      "metadata": {},
      "outputs": [
        {
          "data": {
            "text/plain": [
              "[PhysicalDevice(name='/physical_device:CPU:0', device_type='CPU')]"
            ]
          },
          "execution_count": 4,
          "metadata": {},
          "output_type": "execute_result"
        }
      ],
      "source": [
        "import tensorflow as tf\n",
        "tf.config.list_physical_devices()"
      ]
    },
    {
      "cell_type": "code",
      "execution_count": 5,
      "metadata": {},
      "outputs": [
        {
          "data": {
            "image/png": "[encoded data removed]",
            "text/plain": [
              "<Figure size 720x432 with 1 Axes>"
            ]
          },
          "metadata": {
            "needs_background": "light"
          },
          "output_type": "display_data"
        }
      ],
      "source": [
        "import matplotlib.pyplot as plt\n",
        "\n",
        "input_folder = \"defungi2\"\n",
        "\n",
        "class_names = os.listdir(input_folder)\n",
        "\n",
        "num_images_per_class = []\n",
        "for class_name in class_names:\n",
        "    class_folder = os.path.join(input_folder, class_name)\n",
        "    num_images = len(os.listdir(class_folder))\n",
        "    num_images_per_class.append(num_images)\n",
        "\n",
        "plt.figure(figsize=(10, 6))\n",
        "plt.bar(class_names, num_images_per_class, color='skyblue')\n",
        "plt.xlabel('Class Name')\n",
        "plt.ylabel('Number of Images')\n",
        "plt.title('Number of Images in Each Class')\n",
        "plt.xticks(rotation=45)\n",
        "plt.show()"
      ]
    },
    {
      "cell_type": "code",
      "execution_count": 6,
      "metadata": {},
      "outputs": [
        {
          "name": "stdout",
          "output_type": "stream",
          "text": [
            "Found 7290 files belonging to 5 classes.\n"
          ]
        },
        {
          "data": {
            "text/plain": [
              "['H1', 'H2', 'H3', 'H5', 'H6']"
            ]
          },
          "execution_count": 6,
          "metadata": {},
          "output_type": "execute_result"
        }
      ],
      "source": [
        "import os\n",
        "import shutil\n",
        "from sklearn.model_selection import train_test_split\n",
        "\n",
        "input_folder = \"defungi\"\n",
        "output_folder = \"output\"\n",
        "\n",
        "class_names = os.listdir(input_folder)\n",
        "if not os.path.exists(output_folder):\n",
        "    os.makedirs(output_folder)\n",
        "\n",
        "for class_name in class_names:\n",
        "    class_folder = os.path.join(input_folder, class_name)\n",
        "    output_train_folder = os.path.join(output_folder, \"train\", class_name)\n",
        "    output_test_folder = os.path.join(output_folder, \"test\", class_name)\n",
        "    os.makedirs(output_train_folder, exist_ok=True)\n",
        "    os.makedirs(output_test_folder, exist_ok=True)\n",
        "\n",
        "    images = os.listdir(class_folder)\n",
        "    train_images, test_images = train_test_split(images, test_size=0.2, random_state=42)\n",
        "    for image in train_images:\n",
        "        src = os.path.join(class_folder, image)\n",
        "        dest = os.path.join(output_train_folder, image)\n",
        "        shutil.copy(src, dest)\n",
        "\n",
        "    for image in test_images:\n",
        "        src = os.path.join(class_folder, image)\n",
        "        dest = os.path.join(output_test_folder, image)\n",
        "        shutil.copy(src, dest)\n",
        "train_dataset = tf.keras.preprocessing.image_dataset_from_directory(\n",
        "    'output/train',\n",
        "    labels='inferred',\n",
        "    label_mode='categorical',\n",
        "    batch_size=256,\n",
        "    image_size=(256, 256),\n",
        "    seed=42\n",
        ")\n",
        "\n",
        "class_names = train_dataset.class_names\n",
        "class_names\n"
      ]
    },
    {
      "cell_type": "code",
      "execution_count": 28,
      "metadata": {
        "colab": {
          "base_uri": "https://localhost:8080/"
        },
        "id": "UPP2FTOHB3_8",
        "outputId": "c1088baa-e3ce-4d69-8ced-870eae8c891b"
      },
      "outputs": [],
      "source": [
        "# input_folder = \"/content/drive/MyDrive/Colab Notebooks/defungi\"\n",
        "# output = \"output\"\n",
        "\n",
        "# splitfolders.ratio(input_folder, output=output, seed=42, ratio=(0.80, 0.20))"
      ]
    },
    {
      "cell_type": "code",
      "execution_count": 29,
      "metadata": {
        "colab": {
          "base_uri": "https://localhost:8080/"
        },
        "id": "hTptT61ECETh",
        "outputId": "a859bae9-dc04-420e-ef8b-7715ab821228"
      },
      "outputs": [],
      "source": [
        "# input_folder = \"/content/drive/MyDrive/Colab Notebooks/defungi\"\n",
        "# output = \"output\"\n",
        "\n",
        "# splitfolders.ratio(input_folder, output=output, seed=42, ratio=(0.80, 0.20))\n",
        "# dataset= tf.keras.preprocessing.image_dataset_from_directory('/content/output/train')\n",
        "# class_names = dataset.class_names\n",
        "# class_names\n",
        "\n",
        "\n",
        "# train_datagen = ImageDataGenerator(\n",
        "#     rescale=1./255,\n",
        "#     shear_range=0.2,\n",
        "#     zoom_range=0.2,\n",
        "#     horizontal_flip=True)\n",
        "\n",
        "# # Define data generator without augmentation for validation\n",
        "# validation_datagen = ImageDataGenerator(rescale=1./255)"
      ]
    },
    {
      "cell_type": "code",
      "execution_count": 7,
      "metadata": {
        "colab": {
          "base_uri": "https://localhost:8080/"
        },
        "id": "-FsQpqLmKIrb",
        "outputId": "cdb93c56-7344-4183-f582-b5c8e101080c"
      },
      "outputs": [
        {
          "name": "stdout",
          "output_type": "stream",
          "text": [
            "Found 7290 images belonging to 5 classes.\n",
            "Found 1824 images belonging to 5 classes.\n"
          ]
        }
      ],
      "source": [
        "\n",
        "image_size = 256\n",
        "\n",
        "data_generator_with_aug = ImageDataGenerator(\n",
        "    preprocessing_function=preprocess_input,\n",
        "    horizontal_flip=True,\n",
        "    vertical_flip=True,\n",
        ")\n",
        "\n",
        "data_generator_no_aug = ImageDataGenerator(preprocessing_function=preprocess_input)\n",
        "\n",
        "train_generator = data_generator_with_aug.flow_from_directory(\n",
        "        'output/train',\n",
        "        target_size=(image_size, image_size),\n",
        "        batch_size=256,\n",
        "        class_mode='categorical',\n",
        "        shuffle=False)\n",
        "\n",
        "validation_generator = data_generator_no_aug.flow_from_directory(\n",
        "        'output/test',\n",
        "        target_size=(image_size, image_size),\n",
        "        batch_size=256,\n",
        "        class_mode='categorical',\n",
        "        shuffle=False)"
      ]
    },
    {
      "cell_type": "code",
      "execution_count": 31,
      "metadata": {
        "colab": {
          "base_uri": "https://localhost:8080/"
        },
        "id": "zEQoHMCdKXPt",
        "outputId": "d8bf85dd-3a1c-4fc7-abbf-c8d59a288548"
      },
      "outputs": [],
      "source": [
        "resnet_model = ResNet50(include_top=False,weights=\"imagenet\")\n",
        "x = resnet_model.output\n",
        "x = GlobalAveragePooling2D()(x)\n",
        "x = tf.keras.layers.Flatten()(x)\n",
        "x = tf.keras.layers.Dense(1024,activation='relu')(x)\n",
        "x = tf.keras.layers.Dropout(0.1)(x)\n",
        "x = tf.keras.layers.Dense(256,activation='relu')(x)\n",
        "x = tf.keras.layers.Dropout(0.1)(x)\n",
        "x = tf.keras.layers.Dense(128,activation='relu')(x)\n",
        "x = tf.keras.layers.Dropout(0.1)(x)\n",
        "res = tf.keras.layers.Dense(5, activation=\"softmax\")(x)\n",
        "\n",
        "model = Model(inputs=resnet_model.input, outputs=res)\n",
        "\n",
        "for layer in resnet_model.layers:\n",
        "    layer.trainable = False\n",
        "\n",
        "model.compile(\n",
        "    optimizer=tf.keras.optimizers.Adam(learning_rate=0.0015),\n",
        "    loss='categorical_crossentropy',\n",
        "    metrics=['accuracy'])"
      ]
    },
    {
      "cell_type": "code",
      "execution_count": 32,
      "metadata": {
        "colab": {
          "base_uri": "https://localhost:8080/"
        },
        "id": "7lxc4F96KgeV",
        "outputId": "dd644465-d3a1-41e7-a6d7-f872aeb336eb"
      },
      "outputs": [
        {
          "name": "stdout",
          "output_type": "stream",
          "text": [
            "Epoch 1/100\n",
            "29/29 [==============================] - 451s 16s/step - loss: 1.0759 - accuracy: 0.5785 - val_loss: 0.7136 - val_accuracy: 0.7089\n",
            "Epoch 2/100\n",
            "29/29 [==============================] - 457s 16s/step - loss: 0.6629 - accuracy: 0.7313 - val_loss: 0.6313 - val_accuracy: 0.7346\n",
            "Epoch 3/100\n",
            "29/29 [==============================] - 475s 16s/step - loss: 0.5855 - accuracy: 0.7668 - val_loss: 0.5757 - val_accuracy: 0.7593\n",
            "Epoch 4/100\n",
            "29/29 [==============================] - 478s 17s/step - loss: 0.5307 - accuracy: 0.7815 - val_loss: 0.5318 - val_accuracy: 0.7900\n",
            "Epoch 5/100\n",
            "29/29 [==============================] - 491s 17s/step - loss: 0.4764 - accuracy: 0.8121 - val_loss: 0.5129 - val_accuracy: 0.7889\n",
            "Epoch 6/100\n",
            "29/29 [==============================] - 482s 17s/step - loss: 0.4388 - accuracy: 0.8225 - val_loss: 0.4620 - val_accuracy: 0.8163\n",
            "Epoch 7/100\n",
            "29/29 [==============================] - 484s 17s/step - loss: 0.4051 - accuracy: 0.8425 - val_loss: 0.4619 - val_accuracy: 0.8163\n",
            "Epoch 8/100\n",
            "29/29 [==============================] - 483s 17s/step - loss: 0.3888 - accuracy: 0.8401 - val_loss: 0.4580 - val_accuracy: 0.8141\n",
            "Epoch 9/100\n",
            "29/29 [==============================] - 490s 17s/step - loss: 0.3724 - accuracy: 0.8519 - val_loss: 0.4482 - val_accuracy: 0.8218\n",
            "Epoch 10/100\n",
            "29/29 [==============================] - 480s 17s/step - loss: 0.3338 - accuracy: 0.8682 - val_loss: 0.4151 - val_accuracy: 0.8344\n",
            "Epoch 11/100\n",
            "29/29 [==============================] - 479s 17s/step - loss: 0.3156 - accuracy: 0.8724 - val_loss: 0.4625 - val_accuracy: 0.8366\n",
            "Epoch 12/100\n",
            "29/29 [==============================] - 473s 16s/step - loss: 0.3113 - accuracy: 0.8752 - val_loss: 0.5110 - val_accuracy: 0.8169\n",
            "Epoch 13/100\n",
            "29/29 [==============================] - 475s 16s/step - loss: 0.3105 - accuracy: 0.8756 - val_loss: 0.4461 - val_accuracy: 0.8366\n",
            "Epoch 14/100\n",
            "29/29 [==============================] - 476s 17s/step - loss: 0.2753 - accuracy: 0.8892 - val_loss: 0.4349 - val_accuracy: 0.8421\n",
            "Epoch 15/100\n",
            "29/29 [==============================] - 474s 16s/step - loss: 0.2592 - accuracy: 0.8959 - val_loss: 0.4559 - val_accuracy: 0.8383\n",
            "Epoch 16/100\n",
            "29/29 [==============================] - 477s 17s/step - loss: 0.2287 - accuracy: 0.9073 - val_loss: 0.3989 - val_accuracy: 0.8498\n",
            "Epoch 17/100\n",
            "29/29 [==============================] - 480s 17s/step - loss: 0.2201 - accuracy: 0.9140 - val_loss: 0.3888 - val_accuracy: 0.8690\n",
            "Epoch 18/100\n",
            "29/29 [==============================] - 478s 17s/step - loss: 0.2140 - accuracy: 0.9148 - val_loss: 0.3998 - val_accuracy: 0.8553\n",
            "Epoch 19/100\n",
            "29/29 [==============================] - 470s 16s/step - loss: 0.2053 - accuracy: 0.9209 - val_loss: 0.4270 - val_accuracy: 0.8668\n",
            "Epoch 20/100\n",
            "29/29 [==============================] - 449s 16s/step - loss: 0.2023 - accuracy: 0.9228 - val_loss: 0.4044 - val_accuracy: 0.8668\n",
            "Epoch 21/100\n",
            "29/29 [==============================] - 420s 15s/step - loss: 0.1797 - accuracy: 0.9280 - val_loss: 0.4793 - val_accuracy: 0.8629\n",
            "Epoch 22/100\n",
            "29/29 [==============================] - 417s 14s/step - loss: 0.1956 - accuracy: 0.9219 - val_loss: 0.3879 - val_accuracy: 0.8635\n",
            "Epoch 23/100\n",
            "29/29 [==============================] - 416s 14s/step - loss: 0.1778 - accuracy: 0.9346 - val_loss: 0.3910 - val_accuracy: 0.8542\n",
            "Epoch 24/100\n",
            "29/29 [==============================] - 420s 15s/step - loss: 0.1573 - accuracy: 0.9409 - val_loss: 0.3992 - val_accuracy: 0.8734\n",
            "Epoch 25/100\n",
            "29/29 [==============================] - 426s 15s/step - loss: 0.1607 - accuracy: 0.9385 - val_loss: 0.4219 - val_accuracy: 0.8755\n",
            "Epoch 26/100\n",
            "29/29 [==============================] - 425s 15s/step - loss: 0.1576 - accuracy: 0.9414 - val_loss: 0.4375 - val_accuracy: 0.8607\n",
            "Epoch 27/100\n",
            "29/29 [==============================] - 422s 15s/step - loss: 0.1606 - accuracy: 0.9368 - val_loss: 0.4496 - val_accuracy: 0.8734\n",
            "Epoch 28/100\n",
            "29/29 [==============================] - 419s 15s/step - loss: 0.1397 - accuracy: 0.9449 - val_loss: 0.4037 - val_accuracy: 0.8755\n",
            "Epoch 29/100\n",
            "29/29 [==============================] - 423s 15s/step - loss: 0.1366 - accuracy: 0.9492 - val_loss: 0.4727 - val_accuracy: 0.8695\n",
            "Epoch 30/100\n",
            "29/29 [==============================] - 422s 15s/step - loss: 0.1266 - accuracy: 0.9509 - val_loss: 0.4034 - val_accuracy: 0.8849\n",
            "Epoch 31/100\n",
            "29/29 [==============================] - 422s 15s/step - loss: 0.1292 - accuracy: 0.9495 - val_loss: 0.4028 - val_accuracy: 0.8723\n",
            "Epoch 32/100\n",
            "29/29 [==============================] - 426s 15s/step - loss: 0.1062 - accuracy: 0.9602 - val_loss: 0.3883 - val_accuracy: 0.8865\n",
            "Epoch 33/100\n",
            "29/29 [==============================] - 434s 15s/step - loss: 0.1144 - accuracy: 0.9551 - val_loss: 0.3939 - val_accuracy: 0.8750\n",
            "Epoch 34/100\n",
            "29/29 [==============================] - 436s 15s/step - loss: 0.1049 - accuracy: 0.9604 - val_loss: 0.4235 - val_accuracy: 0.8712\n",
            "Epoch 35/100\n",
            "29/29 [==============================] - 437s 15s/step - loss: 0.1141 - accuracy: 0.9549 - val_loss: 0.4280 - val_accuracy: 0.8728\n",
            "Epoch 36/100\n",
            "29/29 [==============================] - 440s 15s/step - loss: 0.1102 - accuracy: 0.9593 - val_loss: 0.4147 - val_accuracy: 0.8794\n",
            "Epoch 37/100\n",
            "29/29 [==============================] - 431s 15s/step - loss: 0.1102 - accuracy: 0.9571 - val_loss: 0.4407 - val_accuracy: 0.8904\n",
            "Epoch 38/100\n",
            "29/29 [==============================] - 434s 15s/step - loss: 0.1036 - accuracy: 0.9597 - val_loss: 0.3971 - val_accuracy: 0.8849\n",
            "Epoch 39/100\n",
            "29/29 [==============================] - 434s 15s/step - loss: 0.0934 - accuracy: 0.9652 - val_loss: 0.4043 - val_accuracy: 0.8871\n",
            "Epoch 40/100\n",
            "29/29 [==============================] - 429s 15s/step - loss: 0.0942 - accuracy: 0.9661 - val_loss: 0.4544 - val_accuracy: 0.8799\n",
            "Epoch 41/100\n",
            "29/29 [==============================] - 422s 15s/step - loss: 0.0955 - accuracy: 0.9645 - val_loss: 0.4637 - val_accuracy: 0.8876\n",
            "Epoch 42/100\n",
            "29/29 [==============================] - 424s 15s/step - loss: 0.0901 - accuracy: 0.9661 - val_loss: 0.4177 - val_accuracy: 0.8909\n",
            "Epoch 43/100\n",
            "29/29 [==============================] - 424s 15s/step - loss: 0.1053 - accuracy: 0.9641 - val_loss: 0.3987 - val_accuracy: 0.8838\n",
            "Epoch 44/100\n",
            "29/29 [==============================] - 422s 15s/step - loss: 0.0879 - accuracy: 0.9709 - val_loss: 0.3774 - val_accuracy: 0.8882\n",
            "Epoch 45/100\n",
            "29/29 [==============================] - 424s 15s/step - loss: 0.0911 - accuracy: 0.9665 - val_loss: 0.4442 - val_accuracy: 0.8832\n",
            "Epoch 46/100\n",
            "29/29 [==============================] - 425s 15s/step - loss: 0.0899 - accuracy: 0.9682 - val_loss: 0.4024 - val_accuracy: 0.8980\n",
            "Epoch 47/100\n",
            "29/29 [==============================] - 432s 15s/step - loss: 0.0893 - accuracy: 0.9700 - val_loss: 0.4311 - val_accuracy: 0.8876\n",
            "Epoch 48/100\n",
            "29/29 [==============================] - 434s 15s/step - loss: 0.0646 - accuracy: 0.9778 - val_loss: 0.4151 - val_accuracy: 0.8865\n",
            "Epoch 49/100\n",
            "29/29 [==============================] - 433s 15s/step - loss: 0.0768 - accuracy: 0.9733 - val_loss: 0.4906 - val_accuracy: 0.8805\n",
            "Epoch 50/100\n",
            "29/29 [==============================] - 435s 15s/step - loss: 0.0793 - accuracy: 0.9695 - val_loss: 0.4167 - val_accuracy: 0.8953\n",
            "Epoch 51/100\n",
            "29/29 [==============================] - 435s 15s/step - loss: 0.0546 - accuracy: 0.9807 - val_loss: 0.4524 - val_accuracy: 0.8953\n",
            "Epoch 52/100\n",
            "29/29 [==============================] - 429s 15s/step - loss: 0.0695 - accuracy: 0.9743 - val_loss: 0.3938 - val_accuracy: 0.8920\n",
            "Epoch 53/100\n",
            "29/29 [==============================] - 427s 15s/step - loss: 0.0694 - accuracy: 0.9765 - val_loss: 0.4274 - val_accuracy: 0.8904\n",
            "Epoch 54/100\n",
            "29/29 [==============================] - 427s 15s/step - loss: 0.0611 - accuracy: 0.9757 - val_loss: 0.4839 - val_accuracy: 0.8931\n",
            "Epoch 55/100\n",
            "29/29 [==============================] - 427s 15s/step - loss: 0.0693 - accuracy: 0.9750 - val_loss: 0.4064 - val_accuracy: 0.9002\n",
            "Epoch 56/100\n",
            "29/29 [==============================] - 418s 14s/step - loss: 0.0662 - accuracy: 0.9767 - val_loss: 0.4429 - val_accuracy: 0.8871\n",
            "Epoch 57/100\n",
            "29/29 [==============================] - 423s 15s/step - loss: 0.0583 - accuracy: 0.9786 - val_loss: 0.5074 - val_accuracy: 0.8854\n",
            "Epoch 58/100\n",
            "29/29 [==============================] - 421s 15s/step - loss: 0.0564 - accuracy: 0.9805 - val_loss: 0.4353 - val_accuracy: 0.8909\n",
            "Epoch 59/100\n",
            "29/29 [==============================] - 422s 15s/step - loss: 0.0503 - accuracy: 0.9808 - val_loss: 0.4486 - val_accuracy: 0.8898\n",
            "Epoch 60/100\n",
            "29/29 [==============================] - 429s 15s/step - loss: 0.0597 - accuracy: 0.9796 - val_loss: 0.4585 - val_accuracy: 0.9008\n",
            "Epoch 61/100\n",
            "29/29 [==============================] - 427s 15s/step - loss: 0.0515 - accuracy: 0.9822 - val_loss: 0.4544 - val_accuracy: 0.8865\n",
            "Epoch 62/100\n",
            "29/29 [==============================] - 426s 15s/step - loss: 0.0513 - accuracy: 0.9808 - val_loss: 0.4994 - val_accuracy: 0.8920\n",
            "Epoch 63/100\n",
            "29/29 [==============================] - 428s 15s/step - loss: 0.0672 - accuracy: 0.9752 - val_loss: 0.4392 - val_accuracy: 0.8947\n",
            "Epoch 64/100\n",
            "29/29 [==============================] - 436s 15s/step - loss: 0.0516 - accuracy: 0.9813 - val_loss: 0.4932 - val_accuracy: 0.8920\n",
            "Epoch 65/100\n",
            "29/29 [==============================] - 434s 15s/step - loss: 0.0687 - accuracy: 0.9741 - val_loss: 0.4415 - val_accuracy: 0.8799\n",
            "Epoch 66/100\n",
            "29/29 [==============================] - 434s 15s/step - loss: 0.0641 - accuracy: 0.9761 - val_loss: 0.4164 - val_accuracy: 0.8904\n",
            "Epoch 67/100\n",
            "29/29 [==============================] - 435s 15s/step - loss: 0.0541 - accuracy: 0.9807 - val_loss: 0.4236 - val_accuracy: 0.8925\n",
            "Epoch 68/100\n",
            "29/29 [==============================] - 436s 15s/step - loss: 0.0413 - accuracy: 0.9840 - val_loss: 0.3949 - val_accuracy: 0.9024\n",
            "Epoch 69/100\n",
            "29/29 [==============================] - 440s 15s/step - loss: 0.0387 - accuracy: 0.9852 - val_loss: 0.5478 - val_accuracy: 0.8947\n",
            "Epoch 70/100\n",
            "29/29 [==============================] - 438s 15s/step - loss: 0.0481 - accuracy: 0.9834 - val_loss: 0.4091 - val_accuracy: 0.9002\n",
            "Epoch 71/100\n",
            "29/29 [==============================] - 430s 15s/step - loss: 0.0377 - accuracy: 0.9871 - val_loss: 0.5027 - val_accuracy: 0.8947\n",
            "Epoch 72/100\n",
            "29/29 [==============================] - 431s 15s/step - loss: 0.0439 - accuracy: 0.9849 - val_loss: 0.5291 - val_accuracy: 0.8904\n",
            "Epoch 73/100\n",
            "29/29 [==============================] - 425s 15s/step - loss: 0.0407 - accuracy: 0.9857 - val_loss: 0.4712 - val_accuracy: 0.8936\n",
            "Epoch 74/100\n",
            "29/29 [==============================] - 426s 15s/step - loss: 0.0445 - accuracy: 0.9844 - val_loss: 0.4717 - val_accuracy: 0.8914\n",
            "Epoch 75/100\n",
            "29/29 [==============================] - 433s 15s/step - loss: 0.0506 - accuracy: 0.9830 - val_loss: 0.4796 - val_accuracy: 0.8887\n",
            "Epoch 76/100\n",
            "29/29 [==============================] - 436s 15s/step - loss: 0.0496 - accuracy: 0.9816 - val_loss: 0.4644 - val_accuracy: 0.8975\n",
            "Epoch 77/100\n",
            "29/29 [==============================] - 438s 15s/step - loss: 0.0636 - accuracy: 0.9763 - val_loss: 0.4695 - val_accuracy: 0.8893\n",
            "Epoch 78/100\n",
            "29/29 [==============================] - 435s 15s/step - loss: 0.0606 - accuracy: 0.9804 - val_loss: 0.5494 - val_accuracy: 0.8580\n",
            "Epoch 79/100\n",
            "29/29 [==============================] - 435s 15s/step - loss: 0.0639 - accuracy: 0.9763 - val_loss: 0.4346 - val_accuracy: 0.8975\n",
            "Epoch 80/100\n",
            "29/29 [==============================] - 437s 15s/step - loss: 0.0404 - accuracy: 0.9849 - val_loss: 0.5492 - val_accuracy: 0.8898\n",
            "Epoch 81/100\n",
            "29/29 [==============================] - 434s 15s/step - loss: 0.0446 - accuracy: 0.9846 - val_loss: 0.4459 - val_accuracy: 0.8975\n",
            "Epoch 82/100\n",
            "29/29 [==============================] - 433s 15s/step - loss: 0.0378 - accuracy: 0.9868 - val_loss: 0.4548 - val_accuracy: 0.8898\n",
            "Epoch 83/100\n",
            "29/29 [==============================] - 438s 15s/step - loss: 0.0364 - accuracy: 0.9870 - val_loss: 0.5272 - val_accuracy: 0.8904\n",
            "Epoch 84/100\n",
            "29/29 [==============================] - 434s 15s/step - loss: 0.0394 - accuracy: 0.9857 - val_loss: 0.5341 - val_accuracy: 0.8871\n",
            "Epoch 85/100\n",
            "29/29 [==============================] - 447s 15s/step - loss: 0.0509 - accuracy: 0.9813 - val_loss: 0.4880 - val_accuracy: 0.8914\n",
            "Epoch 86/100\n",
            "29/29 [==============================] - 435s 15s/step - loss: 0.0416 - accuracy: 0.9838 - val_loss: 0.4699 - val_accuracy: 0.8925\n",
            "Epoch 87/100\n",
            "29/29 [==============================] - 434s 15s/step - loss: 0.0403 - accuracy: 0.9857 - val_loss: 0.4747 - val_accuracy: 0.8975\n",
            "Epoch 88/100\n",
            "29/29 [==============================] - 435s 15s/step - loss: 0.0392 - accuracy: 0.9861 - val_loss: 0.5211 - val_accuracy: 0.8887\n",
            "Epoch 89/100\n",
            "29/29 [==============================] - 432s 15s/step - loss: 0.0495 - accuracy: 0.9815 - val_loss: 0.4657 - val_accuracy: 0.9002\n",
            "Epoch 90/100\n",
            "29/29 [==============================] - 425s 15s/step - loss: 0.0601 - accuracy: 0.9794 - val_loss: 0.4619 - val_accuracy: 0.8838\n",
            "Epoch 91/100\n",
            "29/29 [==============================] - 426s 15s/step - loss: 0.0394 - accuracy: 0.9859 - val_loss: 0.4484 - val_accuracy: 0.8986\n",
            "Epoch 92/100\n",
            "29/29 [==============================] - 433s 15s/step - loss: 0.0342 - accuracy: 0.9875 - val_loss: 0.4351 - val_accuracy: 0.9030\n",
            "Epoch 93/100\n",
            "29/29 [==============================] - 438s 15s/step - loss: 0.0310 - accuracy: 0.9893 - val_loss: 0.4898 - val_accuracy: 0.8997\n",
            "Epoch 94/100\n",
            "29/29 [==============================] - 439s 15s/step - loss: 0.0474 - accuracy: 0.9827 - val_loss: 0.5273 - val_accuracy: 0.8936\n",
            "Epoch 95/100\n",
            "29/29 [==============================] - 432s 15s/step - loss: 0.0374 - accuracy: 0.9859 - val_loss: 0.5728 - val_accuracy: 0.8854\n",
            "Epoch 96/100\n",
            "29/29 [==============================] - 431s 15s/step - loss: 0.0397 - accuracy: 0.9864 - val_loss: 0.4713 - val_accuracy: 0.8958\n",
            "Epoch 97/100\n",
            "29/29 [==============================] - 432s 15s/step - loss: 0.0297 - accuracy: 0.9883 - val_loss: 0.4891 - val_accuracy: 0.8904\n",
            "Epoch 98/100\n",
            "29/29 [==============================] - 429s 15s/step - loss: 0.0415 - accuracy: 0.9855 - val_loss: 0.4374 - val_accuracy: 0.9030\n",
            "Epoch 99/100\n",
            "29/29 [==============================] - 434s 15s/step - loss: 0.0377 - accuracy: 0.9874 - val_loss: 0.5177 - val_accuracy: 0.9008\n",
            "Epoch 100/100\n",
            "29/29 [==============================] - 434s 15s/step - loss: 0.0305 - accuracy: 0.9890 - val_loss: 0.4651 - val_accuracy: 0.9046\n",
            "Model: \"model_3\"\n",
            "__________________________________________________________________________________________________\n",
            "Layer (type)                    Output Shape         Param #     Connected to                     \n",
            "==================================================================================================\n",
            "input_4 (InputLayer)            [(None, None, None,  0                                            \n",
            "__________________________________________________________________________________________________\n",
            "conv1_pad (ZeroPadding2D)       (None, None, None, 3 0           input_4[0][0]                    \n",
            "__________________________________________________________________________________________________\n",
            "conv1_conv (Conv2D)             (None, None, None, 6 9472        conv1_pad[0][0]                  \n",
            "__________________________________________________________________________________________________\n",
            "conv1_bn (BatchNormalization)   (None, None, None, 6 256         conv1_conv[0][0]                 \n",
            "__________________________________________________________________________________________________\n",
            "conv1_relu (Activation)         (None, None, None, 6 0           conv1_bn[0][0]                   \n",
            "__________________________________________________________________________________________________\n",
            "pool1_pad (ZeroPadding2D)       (None, None, None, 6 0           conv1_relu[0][0]                 \n",
            "__________________________________________________________________________________________________\n",
            "pool1_pool (MaxPooling2D)       (None, None, None, 6 0           pool1_pad[0][0]                  \n",
            "__________________________________________________________________________________________________\n",
            "conv2_block1_1_conv (Conv2D)    (None, None, None, 6 4160        pool1_pool[0][0]                 \n",
            "__________________________________________________________________________________________________\n",
            "conv2_block1_1_bn (BatchNormali (None, None, None, 6 256         conv2_block1_1_conv[0][0]        \n",
            "__________________________________________________________________________________________________\n",
            "conv2_block1_1_relu (Activation (None, None, None, 6 0           conv2_block1_1_bn[0][0]          \n",
            "__________________________________________________________________________________________________\n",
            "conv2_block1_2_conv (Conv2D)    (None, None, None, 6 36928       conv2_block1_1_relu[0][0]        \n",
            "__________________________________________________________________________________________________\n",
            "conv2_block1_2_bn (BatchNormali (None, None, None, 6 256         conv2_block1_2_conv[0][0]        \n",
            "__________________________________________________________________________________________________\n",
            "conv2_block1_2_relu (Activation (None, None, None, 6 0           conv2_block1_2_bn[0][0]          \n",
            "__________________________________________________________________________________________________\n",
            "conv2_block1_0_conv (Conv2D)    (None, None, None, 2 16640       pool1_pool[0][0]                 \n",
            "__________________________________________________________________________________________________\n",
            "conv2_block1_3_conv (Conv2D)    (None, None, None, 2 16640       conv2_block1_2_relu[0][0]        \n",
            "__________________________________________________________________________________________________\n",
            "conv2_block1_0_bn (BatchNormali (None, None, None, 2 1024        conv2_block1_0_conv[0][0]        \n",
            "__________________________________________________________________________________________________\n",
            "conv2_block1_3_bn (BatchNormali (None, None, None, 2 1024        conv2_block1_3_conv[0][0]        \n",
            "__________________________________________________________________________________________________\n",
            "conv2_block1_add (Add)          (None, None, None, 2 0           conv2_block1_0_bn[0][0]          \n",
            "                                                                 conv2_block1_3_bn[0][0]          \n",
            "__________________________________________________________________________________________________\n",
            "conv2_block1_out (Activation)   (None, None, None, 2 0           conv2_block1_add[0][0]           \n",
            "__________________________________________________________________________________________________\n",
            "conv2_block2_1_conv (Conv2D)    (None, None, None, 6 16448       conv2_block1_out[0][0]           \n",
            "__________________________________________________________________________________________________\n",
            "conv2_block2_1_bn (BatchNormali (None, None, None, 6 256         conv2_block2_1_conv[0][0]        \n",
            "__________________________________________________________________________________________________\n",
            "conv2_block2_1_relu (Activation (None, None, None, 6 0           conv2_block2_1_bn[0][0]          \n",
            "__________________________________________________________________________________________________\n",
            "conv2_block2_2_conv (Conv2D)    (None, None, None, 6 36928       conv2_block2_1_relu[0][0]        \n",
            "__________________________________________________________________________________________________\n",
            "conv2_block2_2_bn (BatchNormali (None, None, None, 6 256         conv2_block2_2_conv[0][0]        \n",
            "__________________________________________________________________________________________________\n",
            "conv2_block2_2_relu (Activation (None, None, None, 6 0           conv2_block2_2_bn[0][0]          \n",
            "__________________________________________________________________________________________________\n",
            "conv2_block2_3_conv (Conv2D)    (None, None, None, 2 16640       conv2_block2_2_relu[0][0]        \n",
            "__________________________________________________________________________________________________\n",
            "conv2_block2_3_bn (BatchNormali (None, None, None, 2 1024        conv2_block2_3_conv[0][0]        \n",
            "__________________________________________________________________________________________________\n",
            "conv2_block2_add (Add)          (None, None, None, 2 0           conv2_block1_out[0][0]           \n",
            "                                                                 conv2_block2_3_bn[0][0]          \n",
            "__________________________________________________________________________________________________\n",
            "conv2_block2_out (Activation)   (None, None, None, 2 0           conv2_block2_add[0][0]           \n",
            "__________________________________________________________________________________________________\n",
            "conv2_block3_1_conv (Conv2D)    (None, None, None, 6 16448       conv2_block2_out[0][0]           \n",
            "__________________________________________________________________________________________________\n",
            "conv2_block3_1_bn (BatchNormali (None, None, None, 6 256         conv2_block3_1_conv[0][0]        \n",
            "__________________________________________________________________________________________________\n",
            "conv2_block3_1_relu (Activation (None, None, None, 6 0           conv2_block3_1_bn[0][0]          \n",
            "__________________________________________________________________________________________________\n",
            "conv2_block3_2_conv (Conv2D)    (None, None, None, 6 36928       conv2_block3_1_relu[0][0]        \n",
            "__________________________________________________________________________________________________\n",
            "conv2_block3_2_bn (BatchNormali (None, None, None, 6 256         conv2_block3_2_conv[0][0]        \n",
            "__________________________________________________________________________________________________\n",
            "conv2_block3_2_relu (Activation (None, None, None, 6 0           conv2_block3_2_bn[0][0]          \n",
            "__________________________________________________________________________________________________\n",
            "conv2_block3_3_conv (Conv2D)    (None, None, None, 2 16640       conv2_block3_2_relu[0][0]        \n",
            "__________________________________________________________________________________________________\n",
            "conv2_block3_3_bn (BatchNormali (None, None, None, 2 1024        conv2_block3_3_conv[0][0]        \n",
            "__________________________________________________________________________________________________\n",
            "conv2_block3_add (Add)          (None, None, None, 2 0           conv2_block2_out[0][0]           \n",
            "                                                                 conv2_block3_3_bn[0][0]          \n",
            "__________________________________________________________________________________________________\n",
            "conv2_block3_out (Activation)   (None, None, None, 2 0           conv2_block3_add[0][0]           \n",
            "__________________________________________________________________________________________________\n",
            "conv3_block1_1_conv (Conv2D)    (None, None, None, 1 32896       conv2_block3_out[0][0]           \n",
            "__________________________________________________________________________________________________\n",
            "conv3_block1_1_bn (BatchNormali (None, None, None, 1 512         conv3_block1_1_conv[0][0]        \n",
            "__________________________________________________________________________________________________\n",
            "conv3_block1_1_relu (Activation (None, None, None, 1 0           conv3_block1_1_bn[0][0]          \n",
            "__________________________________________________________________________________________________\n",
            "conv3_block1_2_conv (Conv2D)    (None, None, None, 1 147584      conv3_block1_1_relu[0][0]        \n",
            "__________________________________________________________________________________________________\n",
            "conv3_block1_2_bn (BatchNormali (None, None, None, 1 512         conv3_block1_2_conv[0][0]        \n",
            "__________________________________________________________________________________________________\n",
            "conv3_block1_2_relu (Activation (None, None, None, 1 0           conv3_block1_2_bn[0][0]          \n",
            "__________________________________________________________________________________________________\n",
            "conv3_block1_0_conv (Conv2D)    (None, None, None, 5 131584      conv2_block3_out[0][0]           \n",
            "__________________________________________________________________________________________________\n",
            "conv3_block1_3_conv (Conv2D)    (None, None, None, 5 66048       conv3_block1_2_relu[0][0]        \n",
            "__________________________________________________________________________________________________\n",
            "conv3_block1_0_bn (BatchNormali (None, None, None, 5 2048        conv3_block1_0_conv[0][0]        \n",
            "__________________________________________________________________________________________________\n",
            "conv3_block1_3_bn (BatchNormali (None, None, None, 5 2048        conv3_block1_3_conv[0][0]        \n",
            "__________________________________________________________________________________________________\n",
            "conv3_block1_add (Add)          (None, None, None, 5 0           conv3_block1_0_bn[0][0]          \n",
            "                                                                 conv3_block1_3_bn[0][0]          \n",
            "__________________________________________________________________________________________________\n",
            "conv3_block1_out (Activation)   (None, None, None, 5 0           conv3_block1_add[0][0]           \n",
            "__________________________________________________________________________________________________\n",
            "conv3_block2_1_conv (Conv2D)    (None, None, None, 1 65664       conv3_block1_out[0][0]           \n",
            "__________________________________________________________________________________________________\n",
            "conv3_block2_1_bn (BatchNormali (None, None, None, 1 512         conv3_block2_1_conv[0][0]        \n",
            "__________________________________________________________________________________________________\n",
            "conv3_block2_1_relu (Activation (None, None, None, 1 0           conv3_block2_1_bn[0][0]          \n",
            "__________________________________________________________________________________________________\n",
            "conv3_block2_2_conv (Conv2D)    (None, None, None, 1 147584      conv3_block2_1_relu[0][0]        \n",
            "__________________________________________________________________________________________________\n",
            "conv3_block2_2_bn (BatchNormali (None, None, None, 1 512         conv3_block2_2_conv[0][0]        \n",
            "__________________________________________________________________________________________________\n",
            "conv3_block2_2_relu (Activation (None, None, None, 1 0           conv3_block2_2_bn[0][0]          \n",
            "__________________________________________________________________________________________________\n",
            "conv3_block2_3_conv (Conv2D)    (None, None, None, 5 66048       conv3_block2_2_relu[0][0]        \n",
            "__________________________________________________________________________________________________\n",
            "conv3_block2_3_bn (BatchNormali (None, None, None, 5 2048        conv3_block2_3_conv[0][0]        \n",
            "__________________________________________________________________________________________________\n",
            "conv3_block2_add (Add)          (None, None, None, 5 0           conv3_block1_out[0][0]           \n",
            "                                                                 conv3_block2_3_bn[0][0]          \n",
            "__________________________________________________________________________________________________\n",
            "conv3_block2_out (Activation)   (None, None, None, 5 0           conv3_block2_add[0][0]           \n",
            "__________________________________________________________________________________________________\n",
            "conv3_block3_1_conv (Conv2D)    (None, None, None, 1 65664       conv3_block2_out[0][0]           \n",
            "__________________________________________________________________________________________________\n",
            "conv3_block3_1_bn (BatchNormali (None, None, None, 1 512         conv3_block3_1_conv[0][0]        \n",
            "__________________________________________________________________________________________________\n",
            "conv3_block3_1_relu (Activation (None, None, None, 1 0           conv3_block3_1_bn[0][0]          \n",
            "__________________________________________________________________________________________________\n",
            "conv3_block3_2_conv (Conv2D)    (None, None, None, 1 147584      conv3_block3_1_relu[0][0]        \n",
            "__________________________________________________________________________________________________\n",
            "conv3_block3_2_bn (BatchNormali (None, None, None, 1 512         conv3_block3_2_conv[0][0]        \n",
            "__________________________________________________________________________________________________\n",
            "conv3_block3_2_relu (Activation (None, None, None, 1 0           conv3_block3_2_bn[0][0]          \n",
            "__________________________________________________________________________________________________\n",
            "conv3_block3_3_conv (Conv2D)    (None, None, None, 5 66048       conv3_block3_2_relu[0][0]        \n",
            "__________________________________________________________________________________________________\n",
            "conv3_block3_3_bn (BatchNormali (None, None, None, 5 2048        conv3_block3_3_conv[0][0]        \n",
            "__________________________________________________________________________________________________\n",
            "conv3_block3_add (Add)          (None, None, None, 5 0           conv3_block2_out[0][0]           \n",
            "                                                                 conv3_block3_3_bn[0][0]          \n",
            "__________________________________________________________________________________________________\n",
            "conv3_block3_out (Activation)   (None, None, None, 5 0           conv3_block3_add[0][0]           \n",
            "__________________________________________________________________________________________________\n",
            "conv3_block4_1_conv (Conv2D)    (None, None, None, 1 65664       conv3_block3_out[0][0]           \n",
            "__________________________________________________________________________________________________\n",
            "conv3_block4_1_bn (BatchNormali (None, None, None, 1 512         conv3_block4_1_conv[0][0]        \n",
            "__________________________________________________________________________________________________\n",
            "conv3_block4_1_relu (Activation (None, None, None, 1 0           conv3_block4_1_bn[0][0]          \n",
            "__________________________________________________________________________________________________\n",
            "conv3_block4_2_conv (Conv2D)    (None, None, None, 1 147584      conv3_block4_1_relu[0][0]        \n",
            "__________________________________________________________________________________________________\n",
            "conv3_block4_2_bn (BatchNormali (None, None, None, 1 512         conv3_block4_2_conv[0][0]        \n",
            "__________________________________________________________________________________________________\n",
            "conv3_block4_2_relu (Activation (None, None, None, 1 0           conv3_block4_2_bn[0][0]          \n",
            "__________________________________________________________________________________________________\n",
            "conv3_block4_3_conv (Conv2D)    (None, None, None, 5 66048       conv3_block4_2_relu[0][0]        \n",
            "__________________________________________________________________________________________________\n",
            "conv3_block4_3_bn (BatchNormali (None, None, None, 5 2048        conv3_block4_3_conv[0][0]        \n",
            "__________________________________________________________________________________________________\n",
            "conv3_block4_add (Add)          (None, None, None, 5 0           conv3_block3_out[0][0]           \n",
            "                                                                 conv3_block4_3_bn[0][0]          \n",
            "__________________________________________________________________________________________________\n",
            "conv3_block4_out (Activation)   (None, None, None, 5 0           conv3_block4_add[0][0]           \n",
            "__________________________________________________________________________________________________\n",
            "conv4_block1_1_conv (Conv2D)    (None, None, None, 2 131328      conv3_block4_out[0][0]           \n",
            "__________________________________________________________________________________________________\n",
            "conv4_block1_1_bn (BatchNormali (None, None, None, 2 1024        conv4_block1_1_conv[0][0]        \n",
            "__________________________________________________________________________________________________\n",
            "conv4_block1_1_relu (Activation (None, None, None, 2 0           conv4_block1_1_bn[0][0]          \n",
            "__________________________________________________________________________________________________\n",
            "conv4_block1_2_conv (Conv2D)    (None, None, None, 2 590080      conv4_block1_1_relu[0][0]        \n",
            "__________________________________________________________________________________________________\n",
            "conv4_block1_2_bn (BatchNormali (None, None, None, 2 1024        conv4_block1_2_conv[0][0]        \n",
            "__________________________________________________________________________________________________\n",
            "conv4_block1_2_relu (Activation (None, None, None, 2 0           conv4_block1_2_bn[0][0]          \n",
            "__________________________________________________________________________________________________\n",
            "conv4_block1_0_conv (Conv2D)    (None, None, None, 1 525312      conv3_block4_out[0][0]           \n",
            "__________________________________________________________________________________________________\n",
            "conv4_block1_3_conv (Conv2D)    (None, None, None, 1 263168      conv4_block1_2_relu[0][0]        \n",
            "__________________________________________________________________________________________________\n",
            "conv4_block1_0_bn (BatchNormali (None, None, None, 1 4096        conv4_block1_0_conv[0][0]        \n",
            "__________________________________________________________________________________________________\n",
            "conv4_block1_3_bn (BatchNormali (None, None, None, 1 4096        conv4_block1_3_conv[0][0]        \n",
            "__________________________________________________________________________________________________\n",
            "conv4_block1_add (Add)          (None, None, None, 1 0           conv4_block1_0_bn[0][0]          \n",
            "                                                                 conv4_block1_3_bn[0][0]          \n",
            "__________________________________________________________________________________________________\n",
            "conv4_block1_out (Activation)   (None, None, None, 1 0           conv4_block1_add[0][0]           \n",
            "__________________________________________________________________________________________________\n",
            "conv4_block2_1_conv (Conv2D)    (None, None, None, 2 262400      conv4_block1_out[0][0]           \n",
            "__________________________________________________________________________________________________\n",
            "conv4_block2_1_bn (BatchNormali (None, None, None, 2 1024        conv4_block2_1_conv[0][0]        \n",
            "__________________________________________________________________________________________________\n",
            "conv4_block2_1_relu (Activation (None, None, None, 2 0           conv4_block2_1_bn[0][0]          \n",
            "__________________________________________________________________________________________________\n",
            "conv4_block2_2_conv (Conv2D)    (None, None, None, 2 590080      conv4_block2_1_relu[0][0]        \n",
            "__________________________________________________________________________________________________\n",
            "conv4_block2_2_bn (BatchNormali (None, None, None, 2 1024        conv4_block2_2_conv[0][0]        \n",
            "__________________________________________________________________________________________________\n",
            "conv4_block2_2_relu (Activation (None, None, None, 2 0           conv4_block2_2_bn[0][0]          \n",
            "__________________________________________________________________________________________________\n",
            "conv4_block2_3_conv (Conv2D)    (None, None, None, 1 263168      conv4_block2_2_relu[0][0]        \n",
            "__________________________________________________________________________________________________\n",
            "conv4_block2_3_bn (BatchNormali (None, None, None, 1 4096        conv4_block2_3_conv[0][0]        \n",
            "__________________________________________________________________________________________________\n",
            "conv4_block2_add (Add)          (None, None, None, 1 0           conv4_block1_out[0][0]           \n",
            "                                                                 conv4_block2_3_bn[0][0]          \n",
            "__________________________________________________________________________________________________\n",
            "conv4_block2_out (Activation)   (None, None, None, 1 0           conv4_block2_add[0][0]           \n",
            "__________________________________________________________________________________________________\n",
            "conv4_block3_1_conv (Conv2D)    (None, None, None, 2 262400      conv4_block2_out[0][0]           \n",
            "__________________________________________________________________________________________________\n",
            "conv4_block3_1_bn (BatchNormali (None, None, None, 2 1024        conv4_block3_1_conv[0][0]        \n",
            "__________________________________________________________________________________________________\n",
            "conv4_block3_1_relu (Activation (None, None, None, 2 0           conv4_block3_1_bn[0][0]          \n",
            "__________________________________________________________________________________________________\n",
            "conv4_block3_2_conv (Conv2D)    (None, None, None, 2 590080      conv4_block3_1_relu[0][0]        \n",
            "__________________________________________________________________________________________________\n",
            "conv4_block3_2_bn (BatchNormali (None, None, None, 2 1024        conv4_block3_2_conv[0][0]        \n",
            "__________________________________________________________________________________________________\n",
            "conv4_block3_2_relu (Activation (None, None, None, 2 0           conv4_block3_2_bn[0][0]          \n",
            "__________________________________________________________________________________________________\n",
            "conv4_block3_3_conv (Conv2D)    (None, None, None, 1 263168      conv4_block3_2_relu[0][0]        \n",
            "__________________________________________________________________________________________________\n",
            "conv4_block3_3_bn (BatchNormali (None, None, None, 1 4096        conv4_block3_3_conv[0][0]        \n",
            "__________________________________________________________________________________________________\n",
            "conv4_block3_add (Add)          (None, None, None, 1 0           conv4_block2_out[0][0]           \n",
            "                                                                 conv4_block3_3_bn[0][0]          \n",
            "__________________________________________________________________________________________________\n",
            "conv4_block3_out (Activation)   (None, None, None, 1 0           conv4_block3_add[0][0]           \n",
            "__________________________________________________________________________________________________\n",
            "conv4_block4_1_conv (Conv2D)    (None, None, None, 2 262400      conv4_block3_out[0][0]           \n",
            "__________________________________________________________________________________________________\n",
            "conv4_block4_1_bn (BatchNormali (None, None, None, 2 1024        conv4_block4_1_conv[0][0]        \n",
            "__________________________________________________________________________________________________\n",
            "conv4_block4_1_relu (Activation (None, None, None, 2 0           conv4_block4_1_bn[0][0]          \n",
            "__________________________________________________________________________________________________\n",
            "conv4_block4_2_conv (Conv2D)    (None, None, None, 2 590080      conv4_block4_1_relu[0][0]        \n",
            "__________________________________________________________________________________________________\n",
            "conv4_block4_2_bn (BatchNormali (None, None, None, 2 1024        conv4_block4_2_conv[0][0]        \n",
            "__________________________________________________________________________________________________\n",
            "conv4_block4_2_relu (Activation (None, None, None, 2 0           conv4_block4_2_bn[0][0]          \n",
            "__________________________________________________________________________________________________\n",
            "conv4_block4_3_conv (Conv2D)    (None, None, None, 1 263168      conv4_block4_2_relu[0][0]        \n",
            "__________________________________________________________________________________________________\n",
            "conv4_block4_3_bn (BatchNormali (None, None, None, 1 4096        conv4_block4_3_conv[0][0]        \n",
            "__________________________________________________________________________________________________\n",
            "conv4_block4_add (Add)          (None, None, None, 1 0           conv4_block3_out[0][0]           \n",
            "                                                                 conv4_block4_3_bn[0][0]          \n",
            "__________________________________________________________________________________________________\n",
            "conv4_block4_out (Activation)   (None, None, None, 1 0           conv4_block4_add[0][0]           \n",
            "__________________________________________________________________________________________________\n",
            "conv4_block5_1_conv (Conv2D)    (None, None, None, 2 262400      conv4_block4_out[0][0]           \n",
            "__________________________________________________________________________________________________\n",
            "conv4_block5_1_bn (BatchNormali (None, None, None, 2 1024        conv4_block5_1_conv[0][0]        \n",
            "__________________________________________________________________________________________________\n",
            "conv4_block5_1_relu (Activation (None, None, None, 2 0           conv4_block5_1_bn[0][0]          \n",
            "__________________________________________________________________________________________________\n",
            "conv4_block5_2_conv (Conv2D)    (None, None, None, 2 590080      conv4_block5_1_relu[0][0]        \n",
            "__________________________________________________________________________________________________\n",
            "conv4_block5_2_bn (BatchNormali (None, None, None, 2 1024        conv4_block5_2_conv[0][0]        \n",
            "__________________________________________________________________________________________________\n",
            "conv4_block5_2_relu (Activation (None, None, None, 2 0           conv4_block5_2_bn[0][0]          \n",
            "__________________________________________________________________________________________________\n",
            "conv4_block5_3_conv (Conv2D)    (None, None, None, 1 263168      conv4_block5_2_relu[0][0]        \n",
            "__________________________________________________________________________________________________\n",
            "conv4_block5_3_bn (BatchNormali (None, None, None, 1 4096        conv4_block5_3_conv[0][0]        \n",
            "__________________________________________________________________________________________________\n",
            "conv4_block5_add (Add)          (None, None, None, 1 0           conv4_block4_out[0][0]           \n",
            "                                                                 conv4_block5_3_bn[0][0]          \n",
            "__________________________________________________________________________________________________\n",
            "conv4_block5_out (Activation)   (None, None, None, 1 0           conv4_block5_add[0][0]           \n",
            "__________________________________________________________________________________________________\n",
            "conv4_block6_1_conv (Conv2D)    (None, None, None, 2 262400      conv4_block5_out[0][0]           \n",
            "__________________________________________________________________________________________________\n",
            "conv4_block6_1_bn (BatchNormali (None, None, None, 2 1024        conv4_block6_1_conv[0][0]        \n",
            "__________________________________________________________________________________________________\n",
            "conv4_block6_1_relu (Activation (None, None, None, 2 0           conv4_block6_1_bn[0][0]          \n",
            "__________________________________________________________________________________________________\n",
            "conv4_block6_2_conv (Conv2D)    (None, None, None, 2 590080      conv4_block6_1_relu[0][0]        \n",
            "__________________________________________________________________________________________________\n",
            "conv4_block6_2_bn (BatchNormali (None, None, None, 2 1024        conv4_block6_2_conv[0][0]        \n",
            "__________________________________________________________________________________________________\n",
            "conv4_block6_2_relu (Activation (None, None, None, 2 0           conv4_block6_2_bn[0][0]          \n",
            "__________________________________________________________________________________________________\n",
            "conv4_block6_3_conv (Conv2D)    (None, None, None, 1 263168      conv4_block6_2_relu[0][0]        \n",
            "__________________________________________________________________________________________________\n",
            "conv4_block6_3_bn (BatchNormali (None, None, None, 1 4096        conv4_block6_3_conv[0][0]        \n",
            "__________________________________________________________________________________________________\n",
            "conv4_block6_add (Add)          (None, None, None, 1 0           conv4_block5_out[0][0]           \n",
            "                                                                 conv4_block6_3_bn[0][0]          \n",
            "__________________________________________________________________________________________________\n",
            "conv4_block6_out (Activation)   (None, None, None, 1 0           conv4_block6_add[0][0]           \n",
            "__________________________________________________________________________________________________\n",
            "conv5_block1_1_conv (Conv2D)    (None, None, None, 5 524800      conv4_block6_out[0][0]           \n",
            "__________________________________________________________________________________________________\n",
            "conv5_block1_1_bn (BatchNormali (None, None, None, 5 2048        conv5_block1_1_conv[0][0]        \n",
            "__________________________________________________________________________________________________\n",
            "conv5_block1_1_relu (Activation (None, None, None, 5 0           conv5_block1_1_bn[0][0]          \n",
            "__________________________________________________________________________________________________\n",
            "conv5_block1_2_conv (Conv2D)    (None, None, None, 5 2359808     conv5_block1_1_relu[0][0]        \n",
            "__________________________________________________________________________________________________\n",
            "conv5_block1_2_bn (BatchNormali (None, None, None, 5 2048        conv5_block1_2_conv[0][0]        \n",
            "__________________________________________________________________________________________________\n",
            "conv5_block1_2_relu (Activation (None, None, None, 5 0           conv5_block1_2_bn[0][0]          \n",
            "__________________________________________________________________________________________________\n",
            "conv5_block1_0_conv (Conv2D)    (None, None, None, 2 2099200     conv4_block6_out[0][0]           \n",
            "__________________________________________________________________________________________________\n",
            "conv5_block1_3_conv (Conv2D)    (None, None, None, 2 1050624     conv5_block1_2_relu[0][0]        \n",
            "__________________________________________________________________________________________________\n",
            "conv5_block1_0_bn (BatchNormali (None, None, None, 2 8192        conv5_block1_0_conv[0][0]        \n",
            "__________________________________________________________________________________________________\n",
            "conv5_block1_3_bn (BatchNormali (None, None, None, 2 8192        conv5_block1_3_conv[0][0]        \n",
            "__________________________________________________________________________________________________\n",
            "conv5_block1_add (Add)          (None, None, None, 2 0           conv5_block1_0_bn[0][0]          \n",
            "                                                                 conv5_block1_3_bn[0][0]          \n",
            "__________________________________________________________________________________________________\n",
            "conv5_block1_out (Activation)   (None, None, None, 2 0           conv5_block1_add[0][0]           \n",
            "__________________________________________________________________________________________________\n",
            "conv5_block2_1_conv (Conv2D)    (None, None, None, 5 1049088     conv5_block1_out[0][0]           \n",
            "__________________________________________________________________________________________________\n",
            "conv5_block2_1_bn (BatchNormali (None, None, None, 5 2048        conv5_block2_1_conv[0][0]        \n",
            "__________________________________________________________________________________________________\n",
            "conv5_block2_1_relu (Activation (None, None, None, 5 0           conv5_block2_1_bn[0][0]          \n",
            "__________________________________________________________________________________________________\n",
            "conv5_block2_2_conv (Conv2D)    (None, None, None, 5 2359808     conv5_block2_1_relu[0][0]        \n",
            "__________________________________________________________________________________________________\n",
            "conv5_block2_2_bn (BatchNormali (None, None, None, 5 2048        conv5_block2_2_conv[0][0]        \n",
            "__________________________________________________________________________________________________\n",
            "conv5_block2_2_relu (Activation (None, None, None, 5 0           conv5_block2_2_bn[0][0]          \n",
            "__________________________________________________________________________________________________\n",
            "conv5_block2_3_conv (Conv2D)    (None, None, None, 2 1050624     conv5_block2_2_relu[0][0]        \n",
            "__________________________________________________________________________________________________\n",
            "conv5_block2_3_bn (BatchNormali (None, None, None, 2 8192        conv5_block2_3_conv[0][0]        \n",
            "__________________________________________________________________________________________________\n",
            "conv5_block2_add (Add)          (None, None, None, 2 0           conv5_block1_out[0][0]           \n",
            "                                                                 conv5_block2_3_bn[0][0]          \n",
            "__________________________________________________________________________________________________\n",
            "conv5_block2_out (Activation)   (None, None, None, 2 0           conv5_block2_add[0][0]           \n",
            "__________________________________________________________________________________________________\n",
            "conv5_block3_1_conv (Conv2D)    (None, None, None, 5 1049088     conv5_block2_out[0][0]           \n",
            "__________________________________________________________________________________________________\n",
            "conv5_block3_1_bn (BatchNormali (None, None, None, 5 2048        conv5_block3_1_conv[0][0]        \n",
            "__________________________________________________________________________________________________\n",
            "conv5_block3_1_relu (Activation (None, None, None, 5 0           conv5_block3_1_bn[0][0]          \n",
            "__________________________________________________________________________________________________\n",
            "conv5_block3_2_conv (Conv2D)    (None, None, None, 5 2359808     conv5_block3_1_relu[0][0]        \n",
            "__________________________________________________________________________________________________\n",
            "conv5_block3_2_bn (BatchNormali (None, None, None, 5 2048        conv5_block3_2_conv[0][0]        \n",
            "__________________________________________________________________________________________________\n",
            "conv5_block3_2_relu (Activation (None, None, None, 5 0           conv5_block3_2_bn[0][0]          \n",
            "__________________________________________________________________________________________________\n",
            "conv5_block3_3_conv (Conv2D)    (None, None, None, 2 1050624     conv5_block3_2_relu[0][0]        \n",
            "__________________________________________________________________________________________________\n",
            "conv5_block3_3_bn (BatchNormali (None, None, None, 2 8192        conv5_block3_3_conv[0][0]        \n",
            "__________________________________________________________________________________________________\n",
            "conv5_block3_add (Add)          (None, None, None, 2 0           conv5_block2_out[0][0]           \n",
            "                                                                 conv5_block3_3_bn[0][0]          \n",
            "__________________________________________________________________________________________________\n",
            "conv5_block3_out (Activation)   (None, None, None, 2 0           conv5_block3_add[0][0]           \n",
            "__________________________________________________________________________________________________\n",
            "global_average_pooling2d_3 (Glo (None, 2048)         0           conv5_block3_out[0][0]           \n",
            "__________________________________________________________________________________________________\n",
            "flatten_3 (Flatten)             (None, 2048)         0           global_average_pooling2d_3[0][0] \n",
            "__________________________________________________________________________________________________\n",
            "dense_16 (Dense)                (None, 1024)         2098176     flatten_3[0][0]                  \n",
            "__________________________________________________________________________________________________\n",
            "dropout_13 (Dropout)            (None, 1024)         0           dense_16[0][0]                   \n",
            "__________________________________________________________________________________________________\n",
            "dense_17 (Dense)                (None, 256)          262400      dropout_13[0][0]                 \n",
            "__________________________________________________________________________________________________\n",
            "dropout_14 (Dropout)            (None, 256)          0           dense_17[0][0]                   \n",
            "__________________________________________________________________________________________________\n",
            "dense_18 (Dense)                (None, 128)          32896       dropout_14[0][0]                 \n",
            "__________________________________________________________________________________________________\n",
            "dropout_15 (Dropout)            (None, 128)          0           dense_18[0][0]                   \n",
            "__________________________________________________________________________________________________\n",
            "dense_19 (Dense)                (None, 5)            645         dropout_15[0][0]                 \n",
            "==================================================================================================\n",
            "Total params: 25,981,829\n",
            "Trainable params: 2,394,117\n",
            "Non-trainable params: 23,587,712\n",
            "__________________________________________________________________________________________________\n"
          ]
        }
      ],
      "source": [
        "hist = model.fit(\n",
        "    train_generator,\n",
        "    validation_data=validation_generator,\n",
        "    epochs=100,\n",
        "    verbose=1\n",
        ").history\n",
        "\n",
        "model.summary()"
      ]
    },
    {
      "cell_type": "code",
      "execution_count": 33,
      "metadata": {
        "colab": {
          "base_uri": "https://localhost:8080/",
          "height": 699
        },
        "id": "AoNvw9t2KlkI",
        "outputId": "1c8cd36c-232f-4735-9df6-01583e19d2b4"
      },
      "outputs": [
        {
          "data": {
            "image/png": "[encoded data removed]",
            "text/plain": [
              "<Figure size 720x576 with 2 Axes>"
            ]
          },
          "metadata": {
            "needs_background": "light"
          },
          "output_type": "display_data"
        }
      ],
      "source": [
        "acc=hist['accuracy']\n",
        "val_acc=hist['val_accuracy']\n",
        "\n",
        "loss=hist['loss']\n",
        "val_loss=hist['val_loss']\n",
        "\n",
        "plt.figure(figsize=(10,8))\n",
        "\n",
        "plt.subplot(1,2,1)\n",
        "plt.plot(range(100),acc,label='Training Accuracy')\n",
        "plt.plot(range(100),val_acc,label='Validation Accuracy')\n",
        "plt.title(\"Training Accuracy vs Validation Accuracy\")\n",
        "\n",
        "\n",
        "plt.subplot(1,2,2)\n",
        "plt.plot(range(100),loss,label='Training Loss')\n",
        "plt.plot(range(100),val_loss,label='Validation Loss')\n",
        "plt.title(\"Training Loss vs Validation Loss\")\n",
        "plt.show()"
      ]
    },
    {
      "cell_type": "code",
      "execution_count": null,
      "metadata": {},
      "outputs": [],
      "source": [
        "model.save(\"resnet_final_256bs_100e.h5\")"
      ]
    },
    {
      "cell_type": "markdown",
      "metadata": {},
      "source": [
        "# Model 1"
      ]
    },
    {
      "cell_type": "code",
      "execution_count": 8,
      "metadata": {},
      "outputs": [],
      "source": [
        "from sklearn.metrics import confusion_matrix, accuracy_score\n",
        "import seaborn as sns\n",
        "import tensorflow as tf\n",
        "\n",
        "model = tf.keras.models.load_model(\"models/resnet_final_256bs_100e.h5\",compile=False)\n",
        "model.compile(optimizer=tf.keras.optimizers.Adam(lr=0.0015),\n",
        "              loss='categorical_crossentropy',\n",
        "              metrics=['accuracy'])"
      ]
    },
    {
      "cell_type": "code",
      "execution_count": 9,
      "metadata": {},
      "outputs": [
        {
          "name": "stdout",
          "output_type": "stream",
          "text": [
            "8/8 [==============================] - 89s 11s/step - loss: 0.6479 - accuracy: 0.7692\n",
            "Test Loss: 0.647875189781189\n",
            "Test Accuracy: 0.7691885828971863\n"
          ]
        }
      ],
      "source": [
        "test_loss, test_accuracy = model.evaluate(validation_generator, verbose=1)\n",
        "\n",
        "print(\"Test Loss:\", test_loss)\n",
        "print(\"Test Accuracy:\", test_accuracy)"
      ]
    },
    {
      "cell_type": "code",
      "execution_count": 9,
      "metadata": {},
      "outputs": [
        {
          "name": "stdout",
          "output_type": "stream",
          "text": [
            "Classification Report:\n",
            "              precision    recall  f1-score   support\n",
            "\n",
            "          H1       0.78      0.89      0.83       881\n",
            "          H2       0.62      0.53      0.57       467\n",
            "          H3       0.89      0.72      0.80       164\n",
            "          H5       0.98      0.77      0.87       164\n",
            "          H6       0.83      0.86      0.84       148\n",
            "\n",
            "    accuracy                           0.77      1824\n",
            "   macro avg       0.82      0.75      0.78      1824\n",
            "weighted avg       0.77      0.77      0.76      1824\n",
            "\n"
          ]
        }
      ],
      "source": [
        "from sklearn.metrics import classification_report\n",
        "\n",
        "predictions = model.predict(validation_generator)\n",
        "predicted_labels = np.argmax(predictions, axis=1)\n",
        "\n",
        "true_labels = validation_generator.classes\n",
        "\n",
        "class_report = classification_report(true_labels, predicted_labels, target_names=class_names)\n",
        "\n",
        "print(\"Classification Report:\")\n",
        "print(class_report)"
      ]
    },
    {
      "cell_type": "code",
      "execution_count": 10,
      "metadata": {},
      "outputs": [
        {
          "data": {
            "image/png": "[encoded data removed]",
            "text/plain": [
              "<Figure size 720x576 with 2 Axes>"
            ]
          },
          "metadata": {
            "needs_background": "light"
          },
          "output_type": "display_data"
        }
      ],
      "source": [
        "from sklearn.metrics import confusion_matrix\n",
        "import seaborn as sns\n",
        "\n",
        "conf_matrix = confusion_matrix(true_labels, predicted_labels)\n",
        "\n",
        "plt.figure(figsize=(10, 8))\n",
        "sns.heatmap(conf_matrix, annot=True, fmt='d', cmap='Blues', xticklabels=class_names, yticklabels=class_names)\n",
        "plt.xlabel('Predicted Labels')\n",
        "plt.ylabel('True Labels')\n",
        "plt.title('Confusion Matrix')\n",
        "plt.show()"
      ]
    },
    {
      "cell_type": "code",
      "execution_count": 11,
      "metadata": {},
      "outputs": [
        {
          "name": "stdout",
          "output_type": "stream",
          "text": [
            "8/8 [==============================] - 89s 11s/step\n",
            "Precision: 0.7692713512524197\n",
            "Recall: 0.7691885964912281\n",
            "F1-score: 0.7644860832982412\n"
          ]
        }
      ],
      "source": [
        "from sklearn.metrics import precision_recall_fscore_support\n",
        "\n",
        "predicted_probabilities = model.predict(validation_generator, verbose=1)\n",
        "\n",
        "true_labels = []\n",
        "for x, y in validation_generator:\n",
        "    true_labels.extend(np.argmax(y, axis=1))\n",
        "    if len(true_labels) >= len(predicted_probabilities):\n",
        "        break\n",
        "\n",
        "predicted_labels = np.argmax(predicted_probabilities, axis=1)\n",
        "\n",
        "precision, recall, f1_score, _ = precision_recall_fscore_support(true_labels, predicted_labels, average='weighted')\n",
        "\n",
        "print(\"Precision:\", precision)\n",
        "print(\"Recall:\", recall)\n",
        "print(\"F1-score:\", f1_score)"
      ]
    },
    {
      "cell_type": "code",
      "execution_count": 12,
      "metadata": {},
      "outputs": [
        {
          "name": "stdout",
          "output_type": "stream",
          "text": [
            "Image 1 Predicted Class: H6\n",
            "Image 2 Predicted Class: H2\n",
            "Image 3 Predicted Class: H3\n",
            "Image 4 Predicted Class: H5\n",
            "Image 5 Predicted Class: H2\n"
          ]
        }
      ],
      "source": [
        "import numpy as np\n",
        "import matplotlib.pyplot as plt\n",
        "from tensorflow.keras.preprocessing import image\n",
        "\n",
        "def load_and_preprocess_image(image_path, target_size=(224, 224)):\n",
        "    img = image.load_img(image_path, target_size=target_size)\n",
        "    img_array = image.img_to_array(img)\n",
        "    img_array = np.expand_dims(img_array, axis=0)  \n",
        "    img_array = preprocess_input(img_array)\n",
        "    return img_array\n",
        "\n",
        "def predict_images(model, image_paths, class_names):\n",
        "    predictions = []\n",
        "    for img_path in image_paths:\n",
        "        img_array = load_and_preprocess_image(img_path)\n",
        "        pred_probs = model.predict(img_array)\n",
        "        predicted_class_index = np.argmax(pred_probs)\n",
        "        predicted_class = class_names[predicted_class_index]\n",
        "        predictions.append(predicted_class)\n",
        "    return predictions\n",
        "\n",
        "image_paths = [\"defungi/H6/H6_2a_15.jpg\",\"defungi/H2/H2_1a_1.jpg\",\"defungi/H3/H3_1b_1.jpg\",\"defungi/H5/H5_1a_1.jpg\",\"defungi/H3/H3_2a_10.jpg\"]\n",
        "predicted_classes = predict_images(model, image_paths, class_names)\n",
        "for i, predicted_class in enumerate(predicted_classes):\n",
        "    print(f\"Image {i+1} Predicted Class:\", predicted_class)"
      ]
    },
    {
      "cell_type": "markdown",
      "metadata": {},
      "source": [
        "# Model 2"
      ]
    },
    {
      "cell_type": "code",
      "execution_count": 11,
      "metadata": {},
      "outputs": [],
      "source": [
        "from sklearn.metrics import confusion_matrix, accuracy_score\n",
        "import seaborn as sns\n",
        "import tensorflow as tf\n",
        "\n",
        "model = tf.keras.models.load_model(\"models/defungi-bs-32-e-100.h5\",compile=False)\n",
        "model.compile(optimizer=tf.keras.optimizers.Adam(lr=0.0015),\n",
        "              loss='categorical_crossentropy',\n",
        "              metrics=['accuracy'])"
      ]
    },
    {
      "cell_type": "code",
      "execution_count": 14,
      "metadata": {},
      "outputs": [
        {
          "name": "stdout",
          "output_type": "stream",
          "text": [
            "8/8 [==============================] - 89s 11s/step - loss: 0.6572 - accuracy: 0.8745\n",
            "Test Loss: 0.6571922302246094\n",
            "Test Accuracy: 0.874451756477356\n"
          ]
        }
      ],
      "source": [
        "test_loss, test_accuracy = model.evaluate(validation_generator, verbose=1)\n",
        "\n",
        "print(\"Test Loss:\", test_loss)\n",
        "print(\"Test Accuracy:\", test_accuracy)"
      ]
    },
    {
      "cell_type": "code",
      "execution_count": 12,
      "metadata": {},
      "outputs": [
        {
          "name": "stdout",
          "output_type": "stream",
          "text": [
            "Classification Report:\n",
            "              precision    recall  f1-score   support\n",
            "\n",
            "          H1       0.91      0.90      0.90       881\n",
            "          H2       0.75      0.84      0.79       467\n",
            "          H3       0.96      0.79      0.87       164\n",
            "          H5       0.96      0.91      0.93       164\n",
            "          H6       0.99      0.89      0.94       148\n",
            "\n",
            "    accuracy                           0.87      1824\n",
            "   macro avg       0.91      0.87      0.89      1824\n",
            "weighted avg       0.88      0.87      0.88      1824\n",
            "\n"
          ]
        }
      ],
      "source": [
        "from sklearn.metrics import classification_report\n",
        "\n",
        "predictions = model.predict(validation_generator)\n",
        "predicted_labels = np.argmax(predictions, axis=1)\n",
        "\n",
        "true_labels = validation_generator.classes\n",
        "\n",
        "class_report = classification_report(true_labels, predicted_labels, target_names=class_names)\n",
        "\n",
        "print(\"Classification Report:\")\n",
        "print(class_report)"
      ]
    },
    {
      "cell_type": "code",
      "execution_count": 13,
      "metadata": {},
      "outputs": [
        {
          "data": {
            "image/png": "[encoded data removed]",
            "text/plain": [
              "<Figure size 720x576 with 2 Axes>"
            ]
          },
          "metadata": {
            "needs_background": "light"
          },
          "output_type": "display_data"
        }
      ],
      "source": [
        "from sklearn.metrics import confusion_matrix\n",
        "import seaborn as sns\n",
        "\n",
        "conf_matrix = confusion_matrix(true_labels, predicted_labels)\n",
        "\n",
        "plt.figure(figsize=(10, 8))\n",
        "sns.heatmap(conf_matrix, annot=True, fmt='d', cmap='Blues', xticklabels=class_names, yticklabels=class_names)\n",
        "plt.xlabel('Predicted Labels')\n",
        "plt.ylabel('True Labels')\n",
        "plt.title('Confusion Matrix')\n",
        "plt.show()"
      ]
    },
    {
      "cell_type": "code",
      "execution_count": 16,
      "metadata": {},
      "outputs": [
        {
          "name": "stdout",
          "output_type": "stream",
          "text": [
            "8/8 [==============================] - 102s 13s/step\n",
            "Precision: 0.8815094949254265\n",
            "Recall: 0.8744517543859649\n",
            "F1-score: 0.8762341384861911\n"
          ]
        }
      ],
      "source": [
        "from sklearn.metrics import precision_recall_fscore_support\n",
        "\n",
        "predicted_probabilities = model.predict(validation_generator, verbose=1)\n",
        "\n",
        "true_labels = []\n",
        "for x, y in validation_generator:\n",
        "    true_labels.extend(np.argmax(y, axis=1))\n",
        "    if len(true_labels) >= len(predicted_probabilities):\n",
        "        break\n",
        "\n",
        "predicted_labels = np.argmax(predicted_probabilities, axis=1)\n",
        "\n",
        "precision, recall, f1_score, _ = precision_recall_fscore_support(true_labels, predicted_labels, average='weighted')\n",
        "\n",
        "print(\"Precision:\", precision)\n",
        "print(\"Recall:\", recall)\n",
        "print(\"F1-score:\", f1_score)"
      ]
    },
    {
      "cell_type": "code",
      "execution_count": 17,
      "metadata": {},
      "outputs": [
        {
          "name": "stdout",
          "output_type": "stream",
          "text": [
            "Image 1 Predicted Class: H6\n",
            "Image 2 Predicted Class: H2\n",
            "Image 3 Predicted Class: H3\n",
            "Image 4 Predicted Class: H5\n",
            "Image 5 Predicted Class: H3\n"
          ]
        }
      ],
      "source": [
        "import numpy as np\n",
        "import matplotlib.pyplot as plt\n",
        "from tensorflow.keras.preprocessing import image\n",
        "\n",
        "def load_and_preprocess_image(image_path, target_size=(224, 224)):\n",
        "    img = image.load_img(image_path, target_size=target_size)\n",
        "    img_array = image.img_to_array(img)\n",
        "    img_array = np.expand_dims(img_array, axis=0)  \n",
        "    img_array = preprocess_input(img_array)\n",
        "    return img_array\n",
        "\n",
        "def predict_images(model, image_paths, class_names):\n",
        "    predictions = []\n",
        "    for img_path in image_paths:\n",
        "        img_array = load_and_preprocess_image(img_path)\n",
        "        pred_probs = model.predict(img_array)\n",
        "        predicted_class_index = np.argmax(pred_probs)\n",
        "        predicted_class = class_names[predicted_class_index]\n",
        "        predictions.append(predicted_class)\n",
        "    return predictions\n",
        "\n",
        "image_paths = [\"defungi/H6/H6_2a_15.jpg\",\"defungi/H2/H2_1a_1.jpg\",\"defungi/H3/H3_1b_1.jpg\",\"defungi/H5/H5_1a_1.jpg\",\"defungi/H3/H3_2a_10.jpg\"]\n",
        "predicted_classes = predict_images(model, image_paths, class_names)\n",
        "for i, predicted_class in enumerate(predicted_classes):\n",
        "    print(f\"Image {i+1} Predicted Class:\", predicted_class)"
      ]
    },
    {
      "cell_type": "markdown",
      "metadata": {},
      "source": [
        "# Model 3"
      ]
    },
    {
      "cell_type": "code",
      "execution_count": 14,
      "metadata": {},
      "outputs": [],
      "source": [
        "from sklearn.metrics import confusion_matrix, accuracy_score\n",
        "import seaborn as sns\n",
        "import tensorflow as tf\n",
        "\n",
        "model = tf.keras.models.load_model(\"models/defungi-bs-128-e-150.h5\",compile=False)\n",
        "model.compile(optimizer=tf.keras.optimizers.Adam(lr=0.0015),\n",
        "              loss='categorical_crossentropy',\n",
        "              metrics=['accuracy'])"
      ]
    },
    {
      "cell_type": "code",
      "execution_count": 19,
      "metadata": {},
      "outputs": [
        {
          "name": "stdout",
          "output_type": "stream",
          "text": [
            "8/8 [==============================] - 91s 11s/step - loss: 0.4651 - accuracy: 0.9046\n",
            "Test Loss: 0.46508902311325073\n",
            "Test Accuracy: 0.9046052694320679\n"
          ]
        }
      ],
      "source": [
        "test_loss, test_accuracy = model.evaluate(validation_generator, verbose=1)\n",
        "\n",
        "print(\"Test Loss:\", test_loss)\n",
        "print(\"Test Accuracy:\", test_accuracy)"
      ]
    },
    {
      "cell_type": "code",
      "execution_count": 15,
      "metadata": {},
      "outputs": [
        {
          "name": "stdout",
          "output_type": "stream",
          "text": [
            "Classification Report:\n",
            "              precision    recall  f1-score   support\n",
            "\n",
            "          H1       0.91      0.93      0.92       881\n",
            "          H2       0.84      0.83      0.84       467\n",
            "          H3       0.92      0.91      0.91       164\n",
            "          H5       0.97      0.95      0.96       164\n",
            "          H6       0.97      0.93      0.95       148\n",
            "\n",
            "    accuracy                           0.90      1824\n",
            "   macro avg       0.92      0.91      0.92      1824\n",
            "weighted avg       0.90      0.90      0.90      1824\n",
            "\n"
          ]
        }
      ],
      "source": [
        "from sklearn.metrics import classification_report\n",
        "\n",
        "predictions = model.predict(validation_generator)\n",
        "predicted_labels = np.argmax(predictions, axis=1)\n",
        "\n",
        "true_labels = validation_generator.classes\n",
        "\n",
        "class_report = classification_report(true_labels, predicted_labels, target_names=class_names)\n",
        "\n",
        "print(\"Classification Report:\")\n",
        "print(class_report)"
      ]
    },
    {
      "cell_type": "code",
      "execution_count": 16,
      "metadata": {},
      "outputs": [
        {
          "data": {
            "image/png": "[encoded data removed]",
            "text/plain": [
              "<Figure size 720x576 with 2 Axes>"
            ]
          },
          "metadata": {
            "needs_background": "light"
          },
          "output_type": "display_data"
        }
      ],
      "source": [
        "from sklearn.metrics import confusion_matrix\n",
        "import seaborn as sns\n",
        "\n",
        "conf_matrix = confusion_matrix(true_labels, predicted_labels)\n",
        "\n",
        "plt.figure(figsize=(10, 8))\n",
        "sns.heatmap(conf_matrix, annot=True, fmt='d', cmap='Blues', xticklabels=class_names, yticklabels=class_names)\n",
        "plt.xlabel('Predicted Labels')\n",
        "plt.ylabel('True Labels')\n",
        "plt.title('Confusion Matrix')\n",
        "plt.show()"
      ]
    },
    {
      "cell_type": "code",
      "execution_count": 21,
      "metadata": {},
      "outputs": [
        {
          "name": "stdout",
          "output_type": "stream",
          "text": [
            "8/8 [==============================] - 93s 11s/step\n",
            "Precision: 0.9047015423665924\n",
            "Recall: 0.9046052631578947\n",
            "F1-score: 0.904518869679394\n"
          ]
        }
      ],
      "source": [
        "from sklearn.metrics import precision_recall_fscore_support\n",
        "\n",
        "predicted_probabilities = model.predict(validation_generator, verbose=1)\n",
        "\n",
        "true_labels = []\n",
        "for x, y in validation_generator:\n",
        "    true_labels.extend(np.argmax(y, axis=1))\n",
        "    if len(true_labels) >= len(predicted_probabilities):\n",
        "        break\n",
        "\n",
        "predicted_labels = np.argmax(predicted_probabilities, axis=1)\n",
        "\n",
        "precision, recall, f1_score, _ = precision_recall_fscore_support(true_labels, predicted_labels, average='weighted')\n",
        "\n",
        "print(\"Precision:\", precision)\n",
        "print(\"Recall:\", recall)\n",
        "print(\"F1-score:\", f1_score)"
      ]
    },
    {
      "cell_type": "code",
      "execution_count": 22,
      "metadata": {},
      "outputs": [
        {
          "name": "stdout",
          "output_type": "stream",
          "text": [
            "Image 1 Predicted Class: H6\n",
            "Image 2 Predicted Class: H2\n",
            "Image 3 Predicted Class: H3\n",
            "Image 4 Predicted Class: H5\n",
            "Image 5 Predicted Class: H3\n"
          ]
        }
      ],
      "source": [
        "import numpy as np\n",
        "import matplotlib.pyplot as plt\n",
        "from tensorflow.keras.preprocessing import image\n",
        "\n",
        "def load_and_preprocess_image(image_path, target_size=(224, 224)):\n",
        "    img = image.load_img(image_path, target_size=target_size)\n",
        "    img_array = image.img_to_array(img)\n",
        "    img_array = np.expand_dims(img_array, axis=0)  \n",
        "    img_array = preprocess_input(img_array)\n",
        "    return img_array\n",
        "\n",
        "def predict_images(model, image_paths, class_names):\n",
        "    predictions = []\n",
        "    for img_path in image_paths:\n",
        "        img_array = load_and_preprocess_image(img_path)\n",
        "        pred_probs = model.predict(img_array)\n",
        "        predicted_class_index = np.argmax(pred_probs)\n",
        "        predicted_class = class_names[predicted_class_index]\n",
        "        predictions.append(predicted_class)\n",
        "    return predictions\n",
        "\n",
        "image_paths = [\"defungi/H6/H6_2a_15.jpg\",\"defungi/H2/H2_1a_1.jpg\",\"defungi/H3/H3_1b_1.jpg\",\"defungi/H5/H5_1a_1.jpg\",\"defungi/H3/H3_2a_10.jpg\"]\n",
        "predicted_classes = predict_images(model, image_paths, class_names)\n",
        "for i, predicted_class in enumerate(predicted_classes):\n",
        "    print(f\"Image {i+1} Predicted Class:\", predicted_class)"
      ]
    }
  ],
  "metadata": {
    "accelerator": "TPU",
    "colab": {
      "authorship_tag": "ABX9TyPmobiPj0psmk1hxVs3I3N8",
      "include_colab_link": true,
      "mount_file_id": "1u4V0q789as5oFZ7ldqO5TlkmIdOmI5vC",
      "provenance": []
    },
    "kernelspec": {
      "display_name": "Python 3",
      "name": "python3"
    },
    "language_info": {
      "codemirror_mode": {
        "name": "ipython",
        "version": 3
      },
      "file_extension": ".py",
      "mimetype": "text/x-python",
      "name": "python",
      "nbconvert_exporter": "python",
      "pygments_lexer": "ipython3",
      "version": "3.6.5"
    }
  },
  "nbformat": 4,
  "nbformat_minor": 0
}
